{
 "cells": [
  {
   "cell_type": "markdown",
   "metadata": {},
   "source": [
    "# Homework Assignment 2 \n",
    "\n",
    "## Risk Graph\n",
    "\n",
    "### (Notebook 2 of 2)\n",
    "\n"
   ]
  },
  {
   "cell_type": "markdown",
   "metadata": {},
   "source": [
    "### <p style=\"text-align: right;\"> &#9989; Put your name here.</p>\n",
    "### <p style=\"text-align: right;\"> &#9989; Put your _GitHub username_ here.</p>"
   ]
  },
  {
   "cell_type": "markdown",
   "metadata": {},
   "source": [
    "## Assignment Overview\n",
    "\n",
    "In this assignment, we'll explore graphs using the board game Risk as our practical example. Risk is a strategy game played on a world map where territories are connected to their neighbors. This makes it a perfect candidate for graph representation and analysis.\n",
    "\n",
    "### Learning Objectives\n",
    "\n",
    "- Implement a graph representation of a real-world game board\n",
    "- practice using networkx\n",
    "- do some research\n",
    "- visualize graph data using NetworkX\n",
    "\n",
    "The assignment is split into two notebooks:\n",
    "- Notebook 1 of 2 is worth **14 + 33 + 3 = 51 points** \n",
    "- Notebook 2 of 2 is worth **1+ 42 + 1 = 44 points** \n",
    "for a total of **95 points**. Point values for each part are included in the section headers and question prompts.\n",
    "\n",
    "**This assignment is due at 11:59 pm on Friday, March 21st.** It should be uploaded into the \"Homework Assignments\" submission folder for Homework #2 on D2L.  Submission instructions can be found at the end of the notebook. **You must also fill out a survey regarding this assignment.** The link to this survey can also be found at the end of the notebook.\n",
    "\n",
    "---\n",
    "## &#128721; STOP\n",
    "**Pause to add this file and commit your changes to your Git repository! (1 points)**\n",
    "\n",
    "---"
   ]
  },
  {
   "cell_type": "code",
   "execution_count": 8,
   "metadata": {},
   "outputs": [],
   "source": [
    "import networkx as nx\n",
    "import matplotlib.pyplot as plt\n",
    "import matplotlib as mpl\n",
    "import seaborn as sns\n",
    "import pandas as pd\n",
    "import numpy as np"
   ]
  },
  {
   "cell_type": "markdown",
   "metadata": {},
   "source": [
    "---\n",
    "<a id=\"part3\"></a>\n",
    "[Back to ToC](#toc)\n",
    "\n",
    "## Part 3: Creating the Risk Game Graph (42 points)\n",
    "\n",
    "\n",
    "![image](https://cf.geekdo-images.com/JM6hEipDwIByZKEIK9Dgeg__imagepage/img/OEl2gaJbUxdvIv6tNPzDsQyLUtQ=/fit-in/900x600/filters:no_upscale():strip_icc()/pic365731.jpg)\n",
    "\n",
    "\n",
    "&#9989; **Question 3.1 (5 points)**: Create a dictionary that defines the territories in Risk, organized by continents. Each territory should include its neighboring territories. Use the image above for completing the code below"
   ]
  },
  {
   "cell_type": "code",
   "execution_count": 9,
   "metadata": {},
   "outputs": [],
   "source": [
    "# Define the Risk board territories and their connections\n",
    "risk_territories = {\n",
    "    'North America': {\n",
    "        'Alaska': ['Northwest Territory', 'Alberta', 'Kamchatka'],\n",
    "        'Northwest Territory': ['Alaska', 'Alberta', 'Greenland', 'Ontario'],\n",
    "        'Greenland': ['Northwest Territory', 'Ontario', 'Quebec', 'Iceland'],\n",
    "        'Alberta': ['Alaska', 'Northwest Territory', 'Ontario', 'Western United States'],\n",
    "        'Ontario': ['Alberta', 'Northwest Territory', 'Greenland', 'Quebec', 'Western United States', 'Eastern United States'],\n",
    "        'Quebec': ['Ontario', 'Greenland', 'Eastern United States'],\n",
    "        'Western United States': ['Alberta', 'Ontario', 'Eastern United States', 'Central America'],\n",
    "        'Eastern United States': ['Western United States', 'Ontario', 'Quebec', 'Central America'],\n",
    "        'Central America': ['Western United States', 'Eastern United States', 'Venezuela']\n",
    "    },\n",
    "    # Complete the remaining continents\n",
    "    'South America': {\n",
    "        'Venezuela': ['Central America', 'Peru', 'Brazil'],\n",
    "        'Peru': ['Venezuela', 'Brazil', 'Argentina'],\n",
    "        'Brazil': ['Venezuela', 'Peru', 'Argentina', 'North Africa'],\n",
    "        'Argentina': ['Peru', 'Brazil']\n",
    "    },\n",
    "    'Europe': {\n",
    "        'Iceland': ['Greenland', 'Scandinavia', 'Great Britain'],\n",
    "        'Scandinavia': ['Iceland', 'Great Britain', 'Northern Europe', 'Ukraine'],\n",
    "        'Great Britain': ['Iceland', 'Scandinavia', 'Northern Europe', 'Western Europe'],\n",
    "        'Northern Europe': ['Scandinavia', 'Great Britain', 'Western Europe', 'Southern Europe', 'Ukraine'],\n",
    "        'Western Europe': ['Great Britain', 'Northern Europe', 'Southern Europe', 'North Africa'],\n",
    "        'Southern Europe': ['Western Europe', 'Northern Europe', 'Ukraine', 'Egypt', 'North Africa', 'Middle East'],\n",
    "        'Ukraine': ['Scandinavia', 'Northern Europe', 'Southern Europe', 'Middle East', 'Afghanistan', 'Ural'],\n",
    "    },\n",
    "    'Africa': {\n",
    "        'North Africa': ['Western Europe', 'Southern Europe', 'Egypt', 'East Africa', 'Congo', 'Brazil'],\n",
    "        'Egypt': ['North Africa', 'Southern Europe', 'Middle East', 'East Africa'],\n",
    "        'East Africa': ['North Africa', 'Egypt', 'Middle East', 'South Africa', 'Congo', 'Madagascar'],\n",
    "        'Congo': ['North Africa', 'East Africa', 'South Africa'],\n",
    "        'South Africa': ['East Africa', 'Congo', 'Madagascar'],\n",
    "        'Madagascar': ['East Africa', 'South Africa']\n",
    "    },\n",
    "    'Asia': {\n",
    "        'Middle East': ['Egypt', 'East Africa', 'Afghanistan', 'India', 'Ukraine', 'Southern Europe'],\n",
    "        'Afghanistan': ['Middle East', 'India', 'China', 'Ural', 'Ukraine'],\n",
    "        'India': ['Middle East', 'Afghanistan', 'China', 'Siam'],\n",
    "        'Siam': ['India', 'China', 'Indonesia'],\n",
    "        'China': ['Afghanistan', 'India', 'Siam', 'Ural', 'Siberia', 'Mongolia'],\n",
    "        'Ural': ['Ukraine', 'Afghanistan', 'Siberia', 'China'],\n",
    "        'Siberia': ['Ural', 'China', 'Mongolia', 'Yakutsk', 'Irkutsk'],\n",
    "        'Mongolia': ['Siberia', 'China', 'Japan', 'Kamchatka', 'Irkutsk'],\n",
    "        'Irkutsk': ['Siberia', 'Yakutsk', 'Kamchatka', 'Mongolia'],\n",
    "        'Yakutsk': ['Siberia', 'Kamchatka', 'Irkutsk'],\n",
    "        'Japan': ['Kamchatka', 'Mongolia'],\n",
    "        'Kamchatka': ['Alaska', 'Irkutsk', 'Mongolia', 'Yakutsk', 'Japan']\n",
    "    },\n",
    "    'Australia': {\n",
    "        'Indonesia': ['Siam', 'New Guinea', 'Western Australia'],\n",
    "        'New Guinea': ['Indonesia', 'Western Australia', 'Eastern Australia'],\n",
    "        'Western Australia': ['Indonesia', 'New Guinea', 'Eastern Australia'],\n",
    "        'Eastern Australia': ['Western Australia', 'New Guinea']\n",
    "    }\n",
    "}\n",
    "\n",
    "# Check if all connections are bidirectional\n",
    "territory_dict = {}\n",
    "for continent, territories in risk_territories.items():\n",
    "    for territory, neighbors in territories.items():\n",
    "        territory_dict[territory] = neighbors\n",
    "        \n",
    "for territory, neighbors in territory_dict.items():\n",
    "    for neighbor in neighbors:\n",
    "        if territory not in territory_dict[neighbor]:\n",
    "            raise ValueError(f\"Connection from {territory} to {neighbor} is not bidirectional.\")"
   ]
  },
  {
   "cell_type": "markdown",
   "metadata": {},
   "source": [
    "### Graph Creation\n",
    "\n",
    "&#9989; **Question 3.2 (7 points)**: Create a NetworkX graph object from the territory definitions. The territories are the nodes of the graph. Implement a function that builds the graph and adds appropriate attributes for continents. _Hint:_ Look up the documentation of `add_node`, what are the possible inputs? Don't forget to connect each territory to its neighbors. Make sure to add plenty of comments in your code."
   ]
  },
  {
   "cell_type": "code",
   "execution_count": 10,
   "metadata": {},
   "outputs": [],
   "source": [
    "def create_risk_graph(territories):\n",
    "    \"\"\"\n",
    "    Create a NetworkX graph from the Risk territory definitions.\n",
    "    \n",
    "    Parameters:\n",
    "        territories (dict): Dictionary containing territory and connection information\n",
    "        \n",
    "    Returns:\n",
    "        G (nx.Graph): NetworkX graph representing the Risk board\n",
    "    \"\"\"\n",
    "    # Your code here\n",
    "    territories = {k: v for k, v in territories.items() if v}  # Remove empty continents\n",
    "    G = nx.Graph()\n",
    "    for continent, territory_dict in territories.items():\n",
    "        for territory, neighbors in territory_dict.items():\n",
    "            G.add_node(territory, continent=continent)\n",
    "            for neighbor in neighbors:\n",
    "                G.add_edge(territory, neighbor)\n",
    "                \n",
    "    return G\n",
    "\n",
    "# Create the graph\n",
    "G = create_risk_graph(risk_territories)\n"
   ]
  },
  {
   "cell_type": "markdown",
   "metadata": {},
   "source": [
    "### Graph Visualization\n",
    "\n",
    "&#9989; **Question 3.3 (4 points)**: Create a visualization of the Risk board graph. You can use AI to help you with this. The function below should:\n",
    "\n",
    "- make a plot of the risk graph.\n",
    "- color nodes by continent\n",
    "- allow the user to choose a type of layout. _Hint:_ search networkx documentation for the possible layout. Min 5 layouts should be available.\n",
    "- print the name of each territory on the respective node\n",
    "- make a legend for the graph \n",
    "- have very descriptive comments \n",
    "- increase the size of each node from the default value  \n",
    "- increase the font size of label from the default value"
   ]
  },
  {
   "cell_type": "code",
   "execution_count": 11,
   "metadata": {},
   "outputs": [
    {
     "data": {
      "application/vnd.jupyter.widget-view+json": {
       "model_id": "a0a8557da3c147c698c0ef31f4c1b096",
       "version_major": 2,
       "version_minor": 0
      },
      "text/plain": [
       "interactive(children=(Dropdown(description='Layout:', index=4, options=('Spring', 'Force Atlas 2 ', 'Spiral', …"
      ]
     },
     "metadata": {},
     "output_type": "display_data"
    }
   ],
   "source": [
    "from ipywidgets import interact, widgets\n",
    "from matplotlib.patches import Patch\n",
    "\n",
    "def visualize_risk_graph(G):\n",
    "    \"\"\"\n",
    "    Create a visualization of the Risk board graph with continents colored differently.\n",
    "    \n",
    "    Parameters:\n",
    "        G (nx.Graph): NetworkX graph of the Risk board\n",
    "    \"\"\"\n",
    "    # Your code here\n",
    "    # Set up the color palette for continents\n",
    "    continent_colors = {\n",
    "        'North America': 'orange',\n",
    "        'South America': 'yellow',\n",
    "        'Europe': 'blue',\n",
    "        'Africa': 'brown',\n",
    "        'Asia': 'green',\n",
    "        'Australia': 'purple'\n",
    "    }\n",
    "    \n",
    "    # Create a color map for the nodes based on their continent\n",
    "    node_colors = [continent_colors[G.nodes[node]['continent']] for node in G.nodes()]\n",
    "    \n",
    "    # Set up the plot    \n",
    "    layout = 'Kamada Kawai'  # Default layout\n",
    "    layout_func = {\n",
    "        'Spring': nx.spring_layout,\n",
    "        'Force Atlas 2 ': nx.forceatlas2_layout,\n",
    "        'Spiral': nx.spiral_layout,\n",
    "        'Spectral': nx.spectral_layout,\n",
    "        'Kamada Kawai': nx.kamada_kawai_layout,\n",
    "    }\n",
    "    layout_dropdown = widgets.Dropdown(options=layout_func.keys(), value=layout, description='Layout:')\n",
    "\n",
    "    def update_layout(layout):\n",
    "        plt.clf()\n",
    "        plt.figure(figsize=(12, 8))\n",
    "        pos = layout_func.get(layout, nx.spring_layout)(G)\n",
    "        nx.draw(G, pos, with_labels=True, node_color=node_colors, node_size=500, font_size=10, font_color='black', edge_color='gray')\n",
    "        plt.legend(handles=[Patch(color=color, label=continent) for continent, color in continent_colors.items()])\n",
    "        plt.title('Risk Board Graph')\n",
    "        plt.axis('off')\n",
    "        plt.show()\n",
    "        \n",
    "    interact(update_layout, layout=layout_dropdown)\n",
    "\n",
    "# Visualize the graph\n",
    "visualize_risk_graph(G)\n"
   ]
  },
  {
   "cell_type": "markdown",
   "metadata": {},
   "source": [
    "&#9989; **Question 3.4 (26 points)**: Answer the following questions based on the Risk board graph visualization. Each answer should have a minimum of 1-2 sentences and snippet of the code that supports your answer. You must explain what each function in the code snippet does. \n",
    "\n",
    "All answers should be in the same markdown cell. \n",
    "\n",
    "The code snippet should be properly displayed using code markdown. \n",
    "\n",
    "1. Which layout type provides the best visualization of the continent-based clustering in the Risk board graph?\n",
    "    - Explain the rationale behind your choice of layout.\n",
    "2. Do a little research and explain what the Kamada-Kawai layout does? Make sure to cite your sources.\n",
    "3. Which part of the code is used to assign the color of each node based on its continent?\n",
    "4. How did you make the legend? Explain any non-obvious part of the code.\n",
    "5. What colormap did you choose for the continents and how did you import the colormap? \n",
    "6. How did you set the node size and font size in the visualization?\n",
    "7. How did you print the labels for the nodes? "
   ]
  },
  {
   "cell_type": "markdown",
   "metadata": {},
   "source": [
    "1. Kamada-Kawai layout seems to be the best for visualizing the continent-based clustering in the Risk board graph. This layout algorithm positions nodes in a way that minimizes the distance between connected nodes, which helps to highlight the connections between territories within the same continent. The result is a clear and organized representation of the Risk board, making it easier to identify clusters of territories belonging to the same continent.\n",
    "\n",
    "2. \n",
    "    - The Kamada-Kawai layout is a force-directed algorithm that positions nodes based on a spring model, where the ideal distance between nodes is proportional to their graph-theoretic distance. It minimizes energy to achieve a visually appealing layout. This layout is particularly effective for graphs with well-defined clusters.\n",
    "    - Source: Kamada, T., & Kawai, S. (1989). \"An algorithm for drawing general undirected graphs.\" Information Processing Letters, 31(1), 7-15.\n",
    "\n",
    "3. The part of the code that assigns the color of each node based on its continent is the `node_color` parameter in the `nx.draw` function. This parameter takes a list of colors corresponding to each node, which is generated by mapping the continent of each node to a specific color using the `continent_colors` dictionary.\n",
    "\n",
    "4. The legend is created using the `plt.legend` function. The `handles` parameter is a list of `mpl.patches.Patch` objects, each representing a continent with its corresponding color. The `labels` parameter is a list of continent names. The `title` parameter sets the title of the legend.\n",
    "\n",
    "5. The colormap chosen for the continents is a custom colormap. It is a dictionary that maps continent names to specific colors. The list of nodes are run through the `continent_colors` dictionary to assign the appropriate color to each node. \n",
    "\n",
    "6. The node size and font size in the visualization are set using the `node_size` and `font_size` parameters in the `nx.draw` function. The `node_size` parameter is set to 500, which increases the size of each node from the default value. The `font_size` parameter is set to 10, which increases the font size of the labels from the default value.\n",
    "\n",
    "7. The labels for the nodes are printed by setting the `with_labels` parameter to `True` in the `nx.draw` function. This parameter enables the display of node labels on the graph. The `font_size` parameter is also set to 10 to increase the font size of the labels."
   ]
  },
  {
   "cell_type": "markdown",
   "metadata": {},
   "source": [
    "---\n",
    "## &#128721; STOP\n",
    "**Pause to commit your changes to your Git repository! (1 points)**\n",
    "\n",
    "Take a moment to save your notebook, commit the changes to your Git repository using the commit message \"**Committing Part 3**\", no need to push the changes to GitHub yet, but you can if you want."
   ]
  },
  {
   "cell_type": "markdown",
   "metadata": {},
   "source": [
    "---\n",
    "## Assignment wrap-up\n",
    "\n",
    "Please fill out the form that appears when you run the code below.  **You must completely fill this out in order to receive credit for the assignment!**"
   ]
  },
  {
   "cell_type": "code",
   "execution_count": 12,
   "metadata": {},
   "outputs": [
    {
     "data": {
      "text/html": [
       "\n",
       "<iframe \n",
       "\tsrc=\"https://forms.office.com/r/mB0YjLYvAA\" \n",
       "\twidth=\"800px\" \n",
       "\theight=\"600px\" \n",
       "\tframeborder=\"0\" \n",
       "\tmarginheight=\"0\" \n",
       "\tmarginwidth=\"0\">\n",
       "\tLoading...\n",
       "</iframe>\n"
      ],
      "text/plain": [
       "<IPython.core.display.HTML object>"
      ]
     },
     "execution_count": 12,
     "metadata": {},
     "output_type": "execute_result"
    }
   ],
   "source": [
    "from IPython.display import HTML\n",
    "HTML(\n",
    "\"\"\"\n",
    "<iframe \n",
    "\tsrc=\"https://forms.office.com/r/mB0YjLYvAA\" \n",
    "\twidth=\"800px\" \n",
    "\theight=\"600px\" \n",
    "\tframeborder=\"0\" \n",
    "\tmarginheight=\"0\" \n",
    "\tmarginwidth=\"0\">\n",
    "\tLoading...\n",
    "</iframe>\n",
    "\"\"\"\n",
    ")"
   ]
  },
  {
   "cell_type": "markdown",
   "metadata": {},
   "source": [
    "### Congratulations, you're done!\n",
    "\n",
    "If you like, you can upload this file to D2L for a record. Nevertheless, **we will grade the copy on GitHub**. \n"
   ]
  },
  {
   "cell_type": "markdown",
   "metadata": {},
   "source": [
    "&#169; Copyright 2025,  Department of Computational Mathematics, Science and Engineering at Michigan State University"
   ]
  }
 ],
 "metadata": {
  "kernelspec": {
   "display_name": "base",
   "language": "python",
   "name": "python3"
  },
  "language_info": {
   "codemirror_mode": {
    "name": "ipython",
    "version": 3
   },
   "file_extension": ".py",
   "mimetype": "text/x-python",
   "name": "python",
   "nbconvert_exporter": "python",
   "pygments_lexer": "ipython3",
   "version": "3.12.3"
  }
 },
 "nbformat": 4,
 "nbformat_minor": 4
}
