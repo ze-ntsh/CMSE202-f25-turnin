{
 "cells": [
  {
   "cell_type": "markdown",
   "metadata": {},
   "source": [
    "### <p style=\"text-align: right;\"> &#9989; Nitish Maindoliya</p>\n",
    "### <p style=\"text-align: right;\"> &#9989; ze-ntsh"
   ]
  },
  {
   "cell_type": "markdown",
   "metadata": {},
   "source": [
    "# CMSE 202 Midterm (Section 003 - Spring 25)\n",
    "\n",
    "\n",
    "# &#128721; READ EVERYTHING CAREFULLY\n",
    "\n",
    "\n",
    "The goal of this midterm is to give you the opportunity to test out some of the skills that you've developed thus far this semester. In particular, you'll practice setting up a GitHub repository, committing and pushing repository changes, downloading data with command line tools, performing some data analysis, possibly using a new Python package, and writing a python class. You should find that you have all of the skills necessary to complete this exam with even just eight weeks of CMSE 202 under your belt!\n",
    "\n",
    "You are encouraged to look through the entire exam before you get started so that you can appropriately budget your time and understand the broad goals of the exam. Once you've read through it, try doing Parts 1 and 2 first so that you have your repository set up and you download all necessary data files as they will be necessary to complete the assigned tasks. Let your instructor know right away if you have problems downloading the data!\n",
    "\n",
    "The exam is set up so that even if you get stuck on one part there are opportunities to get points on the other parts, so consider jumping ahead if you feel like you aren't making progress and then come back later if you have time.\n",
    "\n",
    "**Important note about using online resources**: This exam is \"open internet\". That means that you can look up documentation, google how to accomplish certain Python tasks, etc. Being able to effectively use the internet for computational modeling and data science is a very important skill, so we want to make sure you have the opportunity to exercise that skill. **However**: The use of any person-to-person communication software is absolutely not acceptable. If you are seen accessing your email, using a chat program (e.g. Slack), or any sort of collaborative cloud storage or document software (e.g. Google Documents), you will be at risk for receiving a zero on the exam.\n",
    "\n",
    "**Important Guidelines on AI Tool Usage**\n",
    "\n",
    "This exam allows the use of AI tools (such as ChatGPT, Claude, HiTA) with specific guidelines that mirror real-world professional practices. These tools should enhance your learning and problem-solving process, not replace your intellectual engagement. Here are the key requirements:\n",
    "\n",
    "1. **Appropriate Use of AI**:\n",
    "   - Use AI as a learning assistant to understand concepts, debug code, or get unstuck\n",
    "   - Use AI to improve your solution approach or verify your thinking\n",
    "   - Use AI to learn about new Python packages or functions you might need\n",
    "\n",
    "2. **Prohibited Uses**:\n",
    "   - Direct copying of AI-generated solutions without understanding\n",
    "   - Asking AI to complete entire questions without your intellectual input\n",
    "   - Using AI to modify provided starter code or test cases\n",
    "   - Using AI to circumvent learning objectives or problem requirements\n",
    "\n",
    "3. **Documentation Requirements**:\n",
    "   - You must cite any AI assistance received by adding a comment that includes:\n",
    "     * The AI tool used\n",
    "     * The specific question you asked\n",
    "     * How you modified or improved upon the AI's suggestion\n",
    "   - Example: \"# AI assistance: Used Claude to understand lmfit parameter initialization. Modified the suggested approach to include custom bounds.\"\n",
    "\n",
    "4. **Evaluation Implications**:\n",
    "   - Questions showing signs of direct AI solution copying will receive zero points\n",
    "   - Evidence of not following problem instructions, even if AI-suggested, will result in zero points\n",
    "   - Modified starter code or test cases will result in zero points for that question\n",
    "\n",
    "Remember: The goal is to demonstrate your understanding and problem-solving abilities. AI tools should support your learning, not replace your critical thinking and coding skills.\n",
    "\n",
    "**Note**: Traditional open internet resources (documentation, Stack Overflow, etc.) remain available, but person-to-person communication tools are not permitted.\"\n",
    "\n",
    "**Keep your eyes on your screen!** Unfortunately, there isn't enough space in the room for everyone to sit at their own table so please do your best to keep your eyes on your own screen. This exam is designed to give *you* the opportunity to show the instructor what you can do and you should hold yourself accountable for maintaining a high level of academic integrity. If any of the instructors observe suspicious behavior, you will, again, risk receiving a zero.\n",
    "\n",
    "The maximum number of points is: **83 Points**"
   ]
  },
  {
   "cell_type": "markdown",
   "metadata": {},
   "source": [
    "![Moira](https://media.giphy.com/media/26gs78HRO8sOuhTkQ/giphy.gif)"
   ]
  },
  {
   "cell_type": "markdown",
   "id": "1f1d868f",
   "metadata": {},
   "source": [
    "## Table of Contents\n",
    "\n",
    "Navigate through the midterm using these links:\n",
    "\n",
    "* [Part 0: Academic integrity statement (1 point)](#part-0-academic-integrity-statement-1-point)\n",
    "* [Part 1: Git and Command Line Interface (9 points)](#part-1-git-and-command-line-interface-9-points)\n",
    "* [Part 2: Working with a less familiar Python package (9 points)](#part-2-working-with-a-less-familiar-python-package-9-points)\n",
    "* [Part 3: Downloading and analyzing unfamiliar data (24 points)](#part-3-downloading-and-analyzing-unfamiliar-data-24-points)\n",
    "* [Part 4: Object-Oriented Programming (38 points)](#part-4-object-oriented-programming-38-points)\n",
    "* [Part 5. Conclusion (3 points)](#part-5-conclusion-3-points)"
   ]
  },
  {
   "cell_type": "markdown",
   "metadata": {},
   "source": [
    "Total points: **81 points**"
   ]
  },
  {
   "cell_type": "markdown",
   "metadata": {},
   "source": [
    "---\n",
    "<a id=\"part-0-academic-integrity-statement-1-point\"></a>\n",
    "\n",
    "# Part 0: Academic integrity statement (1 point)\n",
    "\n",
    "[Back to Table of Contents](#Table-of-Contents)\n",
    "\n",
    "Read the following statement and edit the markdown text to put your name in the statement. This is your commitment to doing your own authentic work on this exam."
   ]
  },
  {
   "cell_type": "markdown",
   "metadata": {},
   "source": [
    "> I, **NITISH MAINDOLIYA**, affirm that this exam represents my own authetic work, without the use of any unpermitted aids or resources or person-to-person communication. I understand that this exam an an opportunity to showcase my own progress in developing and improving my computational skills and have done my best to demonstrate those skills."
   ]
  },
  {
   "cell_type": "markdown",
   "metadata": {},
   "source": [
    "---\n",
    "<a id=\"part-1-git-and-command-line-interface-9-points\"></a>\n",
    "\n",
    "# Part 1: Git and Command Line Interface (9 points)\n",
    "\n",
    "[Back to Table of Contents](#Table-of-Contents)\n",
    "\n",
    "## Setup Instructions\n",
    "\n",
    "Before starting this section:\n",
    "1. Open a new terminal/powershell/command prompt window\n",
    "2. Arrange your screen with this notebook on the left side and the terminal on the right side\n",
    "3. This split-screen setup will help you work efficiently between the notebook and terminal\n",
    "\n",
    "**Important**: Even if your terminal opens in the correct directory, you must write out the full commands as if starting from your home directory."
   ]
  },
  {
   "cell_type": "markdown",
   "metadata": {},
   "source": [
    "&#9989; **Question 1.1 (2 points)**: Move into your `cmse202-s25-turnin` folder and verify your location.\n",
    "\n",
    "Write the commands you used below (minimum 2 lines):"
   ]
  },
  {
   "cell_type": "markdown",
   "metadata": {
    "question_id": "P1Q1",
    "tags": [
     "student_answer"
    ]
   },
   "source": [
    "**<font size=+3>&#9998;</font> Do This**: *Record your answers here.*"
   ]
  },
  {
   "cell_type": "markdown",
   "metadata": {},
   "source": [
    "&#9989; **Question 1.2 (2 points)**: Create the following directory structure in your repository:\n",
    "```\n",
    "cmse202-s25-turnin/\n",
    "    └── midterm/\n",
    "        ├── screenshots/\n",
    "        └── data/\n",
    "```\n",
    "Write the commands you used to create these folders:"
   ]
  },
  {
   "cell_type": "markdown",
   "metadata": {
    "question_id": "P1Q2",
    "tags": [
     "student_answer"
    ]
   },
   "source": [
    "**<font size=+3>&#9998;</font> Do This**: \n",
    "```bash\n",
    "cd cmse202-s25-turnin\n",
    "mkdir midterm\n",
    "cd midterm\n",
    "mkdir screenshots\n",
    "mkdir data\n",
    "```\n"
   ]
  },
  {
   "cell_type": "markdown",
   "metadata": {},
   "source": [
    "&#9989; **Question 1.3 (1 point)**: Write the command to move this notebook into the `midterm` folder:"
   ]
  },
  {
   "cell_type": "markdown",
   "metadata": {
    "question_id": "P1Q3",
    "tags": [
     "student_answer"
    ]
   },
   "source": [
    "**<font size=+3>&#9998;</font> Do This**: *Record your answers here.*\n",
    "```bash\n",
    "mv ../midterm-notebook.ipynb midterm/\n",
    "```"
   ]
  },
  {
   "cell_type": "markdown",
   "metadata": {},
   "source": [
    "&#9989; **Question 1.4 (2 points)**: Check your repository status.\n",
    "\n",
    "Write the command you used:"
   ]
  },
  {
   "cell_type": "markdown",
   "metadata": {
    "question_id": "P1Q4",
    "tags": [
     "student_answer"
    ]
   },
   "source": [
    "**<font size=+3>&#9998;</font> Do This**: *Record your answers here.*"
   ]
  },
  {
   "cell_type": "markdown",
   "metadata": {},
   "source": [
    "Paste the output of the command:"
   ]
  },
  {
   "cell_type": "markdown",
   "metadata": {
    "question_id": "P1Q4",
    "tags": [
     "student_answer"
    ]
   },
   "source": [
    "**<font size=+3>&#9998;</font> Do This**: *Record your answers here.*"
   ]
  },
  {
   "cell_type": "markdown",
   "metadata": {},
   "source": [
    "&#9989; **Question 1.5 (1 point)**: Do you have any untracked files? If not, go back and fix any issues."
   ]
  },
  {
   "cell_type": "markdown",
   "metadata": {
    "question_id": "P1Q5",
    "tags": [
     "student_answer"
    ]
   },
   "source": [
    "**<font size=+3>&#9998;</font> Do This**: *Record your answers here.*"
   ]
  },
  {
   "cell_type": "markdown",
   "metadata": {},
   "source": [
    "&#9989; **Question 1.6 (1 point)**: Commit your changes with the message \"Committing Part 1\" and push to GitHub.\n",
    "\n",
    "Write the commands you used:"
   ]
  },
  {
   "cell_type": "markdown",
   "metadata": {
    "question_id": "P1Q6",
    "tags": [
     "student_answer"
    ]
   },
   "source": [
    "**<font size=+3>&#9998;</font> Do This**: *Record your answers here.*"
   ]
  },
  {
   "cell_type": "markdown",
   "metadata": {},
   "source": [
    "---\n",
    "### &#128721; STOP\n",
    "**Pause to commit your changes to your Git repository! (1 point)**\n",
    "\n",
    "Take a moment to save your notebook, commit the changes to your Git repository using the commit message \"**Committing Part 2**\", and push the changes to GitHub."
   ]
  },
  {
   "cell_type": "markdown",
   "metadata": {},
   "source": [
    "----\n",
    "----\n",
    "\n",
    "<a id=\"part-2-working-with-a-less-familiar-python-package-9-points\"></a>\n",
    "\n",
    "# Part 2: Working with a less familiar Python package (9 points)\n",
    "[Back to Table of Contents](#Table-of-Contents)\n",
    "\n",
    "\n",
    "In this part of the exam you will need to review a bit of documentation from either a Python package that you've explored a bit this semester or a new one."
   ]
  },
  {
   "cell_type": "markdown",
   "metadata": {},
   "source": [
    "Let's say you like plasma physics and decide to write a python library for it, but you find out that someone has already started working on a library for plasmas and they called it `plasmapy`. Here is the [documentation.](https://docs.plasmapy.org/en/stable/index.html)"
   ]
  },
  {
   "cell_type": "markdown",
   "metadata": {},
   "source": [
    "&#9989; **Question 2.1 (1 point)**: To start, install `plasmapy` using `pip` or `conda` . "
   ]
  },
  {
   "cell_type": "code",
   "execution_count": null,
   "metadata": {},
   "outputs": [],
   "source": [
    "# Put the command for installing plasmapy here and run the cell. Don't forget to restart your kernel afterwards\n"
   ]
  },
  {
   "cell_type": "markdown",
   "metadata": {},
   "source": [
    "&#9989; **Question 2.2 (2 points)**: Answer the following questions in the next markdown cell. Read the output of your command. \n",
    "\n",
    "1. Was `plasmapy` installed already ? \n",
    "2. What version of `plasmapy` is installed ?"
   ]
  },
  {
   "cell_type": "markdown",
   "metadata": {},
   "source": [
    "```\n",
    "1. Put your answer here\n",
    "2. Put your answer here\n",
    "```"
   ]
  },
  {
   "cell_type": "markdown",
   "metadata": {},
   "source": [
    "### Exploring the new library\n",
    "\n",
    "Now that we have installed `plasmapy` let's look at some of this package features. From its [documentation](https://docs.plasmapy.org/en/stable/index.html) we notice that there is a `Particle` class. \n",
    "\n",
    "&#9989; **Question 2.3 (1 point)**: Print the docstring of the `Particle` class. You should get something similar to [this](https://docs.plasmapy.org/en/stable/api/plasmapy.particles.particle_class.Particle.html#plasmapy.particles.particle_class.Particle). "
   ]
  },
  {
   "cell_type": "code",
   "execution_count": null,
   "metadata": {},
   "outputs": [],
   "source": [
    "# Put your code here\n"
   ]
  },
  {
   "cell_type": "markdown",
   "metadata": {},
   "source": [
    "&#9989; **Question 2.4 (1 point)**: What error is raised if you pass an argument that is not a valid particle?"
   ]
  },
  {
   "cell_type": "markdown",
   "metadata": {},
   "source": [
    "**<font size=+3>&#9998;</font> Do This**: *Erase the contents of this cell and replace it with your answer.*"
   ]
  },
  {
   "cell_type": "markdown",
   "metadata": {},
   "source": [
    "&#9989; **Question 2.5 (3 points)**: Read through the documentation of the `Particle`class [Link](https://docs.plasmapy.org/en/stable/particles/particle_class.html) and \n",
    "\n",
    "1. Create a muon particle and call it `my_muon`.\n",
    "\n",
    "2. Check whether `lepton` is one of the categories of `my_muon` using one of its **methods**.\n",
    "\n",
    "3. Print the antiparticle of `my_muon` using one of its **attributes**.\n"
   ]
  },
  {
   "cell_type": "code",
   "execution_count": null,
   "metadata": {},
   "outputs": [],
   "source": [
    "### Put your code here\n",
    "\n",
    "my_muon = ????"
   ]
  },
  {
   "cell_type": "markdown",
   "metadata": {},
   "source": [
    "----\n",
    "----\n",
    "\n",
    "<a id=\"part-3-downloading-and-analyzing-unfamiliar-data-24-points\"></a>\n",
    "\n",
    "# Part 3: Downloading and analyzing unfamiliar data (24 points)\n",
    "\n",
    "[Back to Table of Contents](#Table-of-Contents)\n",
    "\n",
    "For this part of the exam, you're to download and analyze a dataset that you've likely not looked at before. You'll perform some simple, exploratorary analysis and create basic visualizations.\n",
    "\n",
    "In particular, you're going to be working with a dataset that contains data on all nuclear explosions between 1945 and 1998. The data are from \n",
    "N.-O. Bergkvist and R. Ferm, Nuclear Explosions 1945–1998, Swedish Defence Research Establishment/SIPRI, Stockholm, July 2000.\n",
    "\n",
    "There are 16 columns; here we will be concerned with those described in the table below.\n",
    "\n",
    "| Column      | Description                                                                           |\n",
    "|-------------|---------------------------------------------------------------------------------------|\n",
    "| date        | Date of explosion in format YYYYMMDD                                                  |\n",
    "| time        | Time of explosion in format HHMMSS.Z, where Z represents tenths of seconds              |\n",
    "| country     | The state that carried out the explosion                                              |\n",
    "| lat         | The latitude of the explosion in degrees, relative to the equator                       |\n",
    "| long        | The longitude of the explosion in degrees, relative to the prime meridian               |\n",
    "| yield_lower | Lower estimate of the yield in kilotons (kt) of TNT                                     |\n",
    "| yield_upper | Upper estimate of the yield in kilotons (kt) of TNT                                     |\n",
    "| type        | The method of deployment of the nuclear device                                          |\n",
    "\n",
    "The link to the file is [hidden here](https://raw.githubusercontent.com/msu-cmse-courses/cmse202-S22-data/main/code_samples/nuclear-explosion-data.csv)\n",
    "\n"
   ]
  },
  {
   "cell_type": "markdown",
   "metadata": {},
   "source": [
    "&#9989; **Question 3.1 (1 point)**: Save this file in the same directory as your notebook so you can load it directly. \n",
    "\n",
    "**Then, in the cell below, put the command or commands you used to download the files. If you did not use a command line tool to download the files, write down a command that *would* have fetched the files.**"
   ]
  },
  {
   "cell_type": "markdown",
   "metadata": {
    "question_id": "P2Q3",
    "tags": [
     "student_answer"
    ]
   },
   "source": [
    "``` \n",
    "Put the command(s) you used for downloading the data files here!\n",
    "\n",
    "```"
   ]
  },
  {
   "cell_type": "markdown",
   "metadata": {},
   "source": [
    "&#9989; **Question 3.2 (2 points)**: To get started, **read in the `nuclear-explosion-data.csv` dataset** and then display the first 12 rows of the data using **Pandas**."
   ]
  },
  {
   "cell_type": "code",
   "execution_count": null,
   "metadata": {
    "question_id": "P2Q3",
    "tags": [
     "student_answer"
    ]
   },
   "outputs": [],
   "source": [
    "# Put your code here"
   ]
  },
  {
   "cell_type": "markdown",
   "metadata": {},
   "source": [
    "Run the following command and answer the questions below\n"
   ]
  },
  {
   "cell_type": "code",
   "execution_count": null,
   "metadata": {
    "execution": {
     "iopub.execute_input": "2025-02-23T19:30:30.742046Z",
     "iopub.status.busy": "2025-02-23T19:30:30.741862Z",
     "iopub.status.idle": "2025-02-23T19:30:30.745943Z",
     "shell.execute_reply": "2025-02-23T19:30:30.745478Z",
     "shell.execute_reply.started": "2025-02-23T19:30:30.742034Z"
    }
   },
   "outputs": [],
   "source": [
    "# Run this. Replace df with the name of your dataframe if it is different.\n",
    "df.info()\n"
   ]
  },
  {
   "cell_type": "markdown",
   "metadata": {},
   "source": [
    "&#9989; **Question 3.3 (4 pts)**: What are the columns with Nan values?"
   ]
  },
  {
   "cell_type": "markdown",
   "metadata": {
    "question_id": "P2Q3",
    "tags": [
     "student_answer"
    ]
   },
   "source": [
    "**<font size=+3>&#9998;</font> Do This**: *Record your answers here.*"
   ]
  },
  {
   "cell_type": "markdown",
   "metadata": {},
   "source": [
    "This dataset contains more information that we care about at the moment. \n",
    "\n",
    "&#9989; **Question 3.4 (3 pts)**: Drop all the columns **except** `date, country, lat, long, yield_upper, purpose, type`\n"
   ]
  },
  {
   "cell_type": "code",
   "execution_count": null,
   "metadata": {
    "question_id": "P2Q3",
    "tags": [
     "student_answer"
    ]
   },
   "outputs": [],
   "source": [
    "# Put your code here\n"
   ]
  },
  {
   "cell_type": "code",
   "execution_count": null,
   "metadata": {
    "execution": {
     "iopub.execute_input": "2025-02-23T19:30:31.125039Z",
     "iopub.status.busy": "2025-02-23T19:30:31.124853Z",
     "iopub.status.idle": "2025-02-23T19:30:31.133800Z",
     "shell.execute_reply": "2025-02-23T19:30:31.133095Z",
     "shell.execute_reply.started": "2025-02-23T19:30:31.125026Z"
    }
   },
   "outputs": [],
   "source": [
    "## READ THIS \n",
    "# Run this cell without changing anything.\n",
    "\n",
    "# Change the df to the name of your dataframe. \n",
    "df[\"date\"] = pd.to_datetime(df[\"date\"], format = \"%Y%m%d\", errors='coerce')\n",
    "df.head(5)"
   ]
  },
  {
   "cell_type": "markdown",
   "metadata": {},
   "source": [
    "&#9989; **Question 3.5 (2 points)**: Use built-in Pandas functions to get a quick statistical summary of your data (e.g. the mean, standard deviation, min, max, etc) **divided by country .**"
   ]
  },
  {
   "cell_type": "code",
   "execution_count": null,
   "metadata": {
    "execution": {
     "iopub.execute_input": "2025-02-23T19:30:31.886154Z",
     "iopub.status.busy": "2025-02-23T19:30:31.885866Z",
     "iopub.status.idle": "2025-02-23T19:30:31.888852Z",
     "shell.execute_reply": "2025-02-23T19:30:31.888308Z",
     "shell.execute_reply.started": "2025-02-23T19:30:31.886117Z"
    },
    "question_id": "P2Q3",
    "tags": [
     "student_answer"
    ]
   },
   "outputs": [],
   "source": [
    "# Put your code here\n",
    "\n"
   ]
  },
  {
   "cell_type": "markdown",
   "metadata": {},
   "source": [
    "&#9989; **Question 3.6 (2 points)**: Looking at the above output, answer the following questions: \n",
    "\n",
    "1. What countries have used nuclear weapons?\n",
    "2. How many weapons did the USA use?\n",
    "3. When did the USSR dropped its first nuclear bomb?\n",
    "4. When and which country dropped the last bomb?"
   ]
  },
  {
   "cell_type": "markdown",
   "metadata": {
    "question_id": "P2Q3",
    "tags": [
     "student_answer"
    ]
   },
   "source": [
    "**<font size=+3>&#9998;</font> Do This**: *Record your answers here.*\n",
    "\n"
   ]
  },
  {
   "cell_type": "markdown",
   "metadata": {},
   "source": [
    "&#9989; **Question 3.7 (7 points)**: Using `seaborn` make an histogram with stacked data ([_Hint_](https://seaborn.pydata.org/examples/index.html) ) : \n",
    "\n",
    "1. with the `date` as the `x` axis\n",
    "\n",
    "2. 45 bins\n",
    "\n",
    "3. color by country\n",
    "\n",
    "4. make the figure size equal to 10, 7\n",
    "\n",
    "5. set the `palette` option equal to `\"Dark2\"`. Or change it to your preference [Link to colors](https://matplotlib.org/stable/tutorials/colors/colormaps.html)"
   ]
  },
  {
   "cell_type": "code",
   "execution_count": null,
   "metadata": {
    "question_id": "P2Q3",
    "tags": [
     "student_answer"
    ]
   },
   "outputs": [],
   "source": [
    "import matplotlib.pyplot as plt\n",
    "import seaborn as sns\n",
    "\n",
    "sns.set_context(\"talk\")\n",
    "\n",
    "_ = plt.xticks(rotation = 40) # This line rotates the ticks of the x-axis so that they are easy to read."
   ]
  },
  {
   "cell_type": "markdown",
   "metadata": {},
   "source": [
    "&#9989; **Question 3.8 (2 points)**: Looking at the above output, answer the following questions: \n",
    "\n",
    "1. What country used nuclear weapons in 1960?\n",
    "2. What countries are the last to use nuclear weapons?\n"
   ]
  },
  {
   "cell_type": "markdown",
   "metadata": {
    "question_id": "P2Q3",
    "tags": [
     "student_answer"
    ]
   },
   "source": [
    "**<font size=+3>&#9998;</font> Do This**: *Record your answers here.*"
   ]
  },
  {
   "cell_type": "markdown",
   "metadata": {},
   "source": [
    "---\n",
    "### &#128721; STOP\n",
    "**Pause to commit your changes to your Git repository! (1 point)**\n",
    "\n",
    "Take a moment to save your notebook, commit the changes to your Git repository using the commit message \"**Committing Part 3**\", and push the changes to GitHub."
   ]
  },
  {
   "cell_type": "markdown",
   "metadata": {},
   "source": [
    "---\n",
    "<a id=\"part-4-object-oriented-programming-38-points\"></a>\n",
    "\n",
    "# Part 4: Object-Oriented Programming (38 points)\n",
    "\n",
    "[Back to Table of Contents](#Table-of-Contents)\n",
    "\n",
    "\n",
    "\n",
    "<img src=https://upload.wikimedia.org/wikipedia/commons/thumb/b/b5/Starting_position_in_a_chess_game.jpg/1024px-Starting_position_in_a_chess_game.jpg width=600px align=center >\n",
    "\n",
    "\n",
    "Let's set up a fictional chess! Here is a [link](https://chess-teacher.com/wp-content/uploads/2016/01/symbols-of-chess-pieces.jpg) explaining the meaning of each piece."
   ]
  },
  {
   "cell_type": "markdown",
   "metadata": {},
   "source": [
    "&#9989; **Question 4.1 (9 points)**: The following cell contains a draft of a class called `ChessPiece` with only the `__init__` constructor. Complete the `__init__` constructor so that it:\n",
    "\n",
    "- takes in three arguments, `color`, `shape`, with no default values. These arguments correspond to three attributes with the same name.\n",
    "\n",
    "- creates another attribute called `position`. This should be a `tuple` set to `('a', 0)`. _Note:_ `'a'` is a `str` while `0` is an `int`.\n",
    "\n",
    "- check whether `shape` is contained in the `list` `[\"bishop\", \"king\", \"knight\", \"pawn\", \"queen\", \"rook\"]`. If no `raise` a `ValueError` with the message `\"Piece does not exist.\"`.  [Hint](https://stackoverflow.com/questions/2052390/manually-raising-throwing-an-exception-in-python) \n"
   ]
  },
  {
   "cell_type": "code",
   "execution_count": null,
   "metadata": {
    "question_id": "P3Q8",
    "tags": [
     "student_answer"
    ]
   },
   "outputs": [],
   "source": [
    "# Put your code here\n",
    "class ChessPiece:\n",
    "    \"\"\"Base class for chess pieces. \n",
    "    \n",
    "    Attributes\n",
    "    ----------\n",
    "    color : str\n",
    "        Color of the chess piece.\n",
    "    \n",
    "    shape : str\n",
    "        Shape of the chess piece. It can be only one of the following\n",
    "        [\"bishop\", \"king\", \"knight\", \"pawn\", \"queen\", \"rook\"]\n",
    "    \n",
    "    position : tuple\n",
    "        Position on the chess board.\n",
    "    \n",
    "    \"\"\"\n",
    "    def __init__(): \n",
    "        \"\"\"Initialize the chess piece with its attributes color and shape \n",
    "        and set the initial position to the lower left corner of the board.\n",
    "        \n",
    "        Input Parameter\n",
    "        ---------------\n",
    "        color : str\n",
    "            Color of the chess piece.\n",
    "    \n",
    "        shape : str\n",
    "            Shape of the chess piece. It can be only one of the following\n",
    "            [\"bishop\", \"king\", \"knight\", \"pawn\", \"queen\", \"rook\"]\n",
    "        \n",
    "        Raises\n",
    "        ------\n",
    "        ValueError\n",
    "            For when the shape is not one of the possible shapes.\"\"\"\n",
    "        \n",
    "        # Put your code here\n",
    "        \n",
    "        pass \n"
   ]
  },
  {
   "cell_type": "markdown",
   "metadata": {},
   "source": [
    "## Test your code\n",
    "\n",
    "Let's that the code works. Run the following cells."
   ]
  },
  {
   "cell_type": "code",
   "execution_count": null,
   "metadata": {
    "question_id": "P3Q8",
    "tags": [
     "student_answer"
    ]
   },
   "outputs": [],
   "source": [
    "#\n",
    "pawn = ChessPiece(color = \"white\", shape = \"pawn\")\n",
    "\n",
    "pawn.position"
   ]
  },
  {
   "cell_type": "markdown",
   "metadata": {},
   "source": [
    "&#9989; **Question 4.1.1 (1 point):** Is `pawn` starting in the correct position `('a',0)`? If Yes move to the next, otherwise fix your code."
   ]
  },
  {
   "cell_type": "code",
   "execution_count": null,
   "metadata": {
    "question_id": "P3Q8",
    "tags": [
     "student_answer"
    ]
   },
   "outputs": [],
   "source": [
    "# Let's try breaking the code\n",
    "\n",
    "archer = ChessPiece(color = \"black\", shape = \"archer\")"
   ]
  },
  {
   "cell_type": "markdown",
   "metadata": {},
   "source": [
    "&#9989; **Question 4.1.2 (1 point):** Did you get a `ValueError` with the correct message? If Yes move to the next, otherwise fix your code.\n",
    "\n"
   ]
  },
  {
   "cell_type": "markdown",
   "metadata": {},
   "source": [
    "---\n",
    "&#9989; **Question 4.2 (21 points)**: In the code cell below there is a draft of a class called `Queen`. Complete this class which **should inherit** the `ChessPiece` class. In addition, modify the methods such that:\n",
    "\n",
    "- the `__init__` constructor \n",
    "    * takes in one argument, `color`. \n",
    "    * set the `shape` attribute to `queen`\n",
    "    * initializes the `position` attribute to `('d',1)` if the `color` attribute is `'white'` otherwise it initializes it to `('d',8)` if the color attribute is `'black'`.\n",
    "    \n",
    "- the `move_to` method should:\n",
    "    * take in one argument `to_position`, with no default value. This will be the position in the chess board where the queen will move.\n",
    "    * check whether the `to_position` is an _instance_ of a `tuple` [Hint](<https://letmegooglethat.com/?q=How+do+I+check+if+an+object+is+an+instance+of+a+given+class+python>).:\n",
    "        * if no then it will raise a `TypeError` with the message `\"Please pass a tuple.\"` [Hint](https://stackoverflow.com/questions/2052390/manually-raising-throwing-an-exception-in-python).\n",
    "        \n",
    "        * if yes then it will check if `to_position` is an allowed value, _i.e._ check if the elements of the `tuple` exist on the chess board. If the desired position does not exist on the board then raise a `ValueError` with the message `\"Move not allowed.\"` Otherwise set the attribute `position` equal to `to_position`. _Note:_ the allowed x-coordinates are `\"a\"` through `\"h\"` and the allowed y-coordinates are `1` through `8`!.       \n",
    "        "
   ]
  },
  {
   "cell_type": "code",
   "execution_count": null,
   "metadata": {
    "question_id": "P3Q8",
    "tags": [
     "student_answer"
    ]
   },
   "outputs": [],
   "source": [
    "# Put your code here\n",
    "class Queen:\n",
    "    \"\"\"\n",
    "    Queen chess piece. Can move in any direction. It inherits the ChessPiece class.\n",
    "    \"\"\"\n",
    "    def __init__(): \n",
    "        \"\"\"\n",
    "        Initialize the chess piece with its attributes color and shape \n",
    "        and set the initial position to the lower left corner of the board.\n",
    "        \n",
    "        Input Parameter\n",
    "        ---------------\n",
    "        color : str\n",
    "            Color of the chess piece.\n",
    "\n",
    "        \"\"\"\n",
    "        # Put your code here\n",
    "        pass\n",
    "    \n",
    "    def move_to():\n",
    "        \"\"\"\n",
    "        Move the chess piece to the given position.\n",
    "        \n",
    "        Input parameter\n",
    "        ---------------\n",
    "        to_position: tuple\n",
    "            Chess board coordinates where to move the piece.\n",
    "        \n",
    "        Raises\n",
    "        ------\n",
    "        ValueError\n",
    "            For when the elements of the tuple are not part of the chess board.\n",
    "        \n",
    "        TypeError\n",
    "            For when the input argument is not of the required type.   \n",
    "        \"\"\"\n",
    "        # Put your code here\n",
    "        pass"
   ]
  },
  {
   "cell_type": "markdown",
   "metadata": {},
   "source": [
    "## Test your code\n",
    "\n",
    "Let's check that the code works. Run the following cell."
   ]
  },
  {
   "cell_type": "code",
   "execution_count": null,
   "metadata": {
    "question_id": "P3Q8",
    "tags": [
     "student_answer"
    ]
   },
   "outputs": [],
   "source": [
    "# Create two queens\n",
    "\n",
    "harmon = Queen(color = 'black')\n",
    "kasparov = Queen(color = \"white\")\n",
    "\n",
    "print(harmon.position)\n",
    "print(kasparov.position)\n"
   ]
  },
  {
   "cell_type": "markdown",
   "metadata": {},
   "source": [
    "&#9989; **Question 4.3.1 (2 points):** Are the queens starting in the correct positions? Look at the board above. If Yes move to the next, otherwise fix your code."
   ]
  },
  {
   "cell_type": "code",
   "execution_count": null,
   "metadata": {
    "question_id": "P3Q1",
    "tags": [
     "student_answer"
    ]
   },
   "outputs": [],
   "source": [
    "# Let's try to move \n",
    "harmon.move_to((\"e\",2))\n",
    "\n",
    "print(harmon.position)"
   ]
  },
  {
   "cell_type": "markdown",
   "metadata": {},
   "source": [
    "&#9989; **Question 4.3.2 (1 point)** Has the queen moved to the correct position? If Yes move to the next, otherwise fix your code."
   ]
  },
  {
   "cell_type": "code",
   "execution_count": null,
   "metadata": {
    "question_id": "P3Q2",
    "tags": [
     "student_answer"
    ]
   },
   "outputs": [],
   "source": [
    "# Let's try and break the code\n",
    "\n",
    "kasparov.move_to( \"upper left by two\")"
   ]
  },
  {
   "cell_type": "markdown",
   "metadata": {},
   "source": [
    "&#9989; **Question 4.3.3 (1 point)**. Did you get a `TypeError` with the correct message? If Yes move to the next, otherwise fix your code."
   ]
  },
  {
   "cell_type": "code",
   "execution_count": null,
   "metadata": {
    "question_id": "P3Q3",
    "tags": [
     "student_answer"
    ]
   },
   "outputs": [],
   "source": [
    "# Let's check the ValueError\n",
    "\n",
    "harmon.move_to(to_position=(\"l\",6))"
   ]
  },
  {
   "cell_type": "markdown",
   "metadata": {},
   "source": [
    "&#9989; **Question 4.3.4 (1 point)**. Did you get a `ValueError` with the correct message? If Yes move to the next, otherwise fix your code."
   ]
  },
  {
   "cell_type": "markdown",
   "metadata": {},
   "source": [
    "---\n",
    "### &#128721; STOP\n",
    "**Pause to commit your changes to your Git repository! (1 point)**\n",
    "\n",
    "Take a moment to save your notebook, commit the changes to your Git repository using the commit message \"**Committing Part 4**\", and push the changes to GitHub.\n",
    "\n",
    "---"
   ]
  },
  {
   "cell_type": "markdown",
   "metadata": {},
   "source": [
    "---\n",
    "<a id=\"part-5-conclusion-3-points\"></a>\n",
    "\n",
    "# Part 5. Conclusion (3 points)\n",
    "\n",
    "[Back to Table of Contents](#Table-of-Contents)\n",
    "\n",
    "Make sure all of your changes to your repository are committed and pushed to GitHub. \n",
    "Before you leave\n",
    "\n",
    "1. Commit changes to your **local** `git` repository (1 point)\n",
    "\n",
    "2. Push the changes to your GitHub repository (1 point)\n",
    "\n",
    "3. Upload your notebook to D2L in case something went wrong with your repository or if you couldn't get the repository to work.  (1 point)"
   ]
  },
  {
   "cell_type": "markdown",
   "metadata": {},
   "source": [
    "## You're done! Congrats on finishing your CMSE 202 Midterm!\n",
    "\n",
    "![Moira2](https://media.giphy.com/media/d1E2HnwywoTkES08/giphy.gif)"
   ]
  },
  {
   "cell_type": "markdown",
   "metadata": {},
   "source": [
    "&#169; Copyright 2025,  Department of Computational Mathematics, Science and Engineering at Michigan State University"
   ]
  }
 ],
 "metadata": {
  "kernelspec": {
   "display_name": "cmse802",
   "language": "python",
   "name": "python3"
  },
  "language_info": {
   "codemirror_mode": {
    "name": "ipython",
    "version": 3
   },
   "file_extension": ".py",
   "mimetype": "text/x-python",
   "name": "python",
   "nbconvert_exporter": "python",
   "pygments_lexer": "ipython3",
   "version": "3.11.11"
  },
  "widgets": {
   "application/vnd.jupyter.widget-state+json": {
    "state": {},
    "version_major": 2,
    "version_minor": 0
   }
  }
 },
 "nbformat": 4,
 "nbformat_minor": 4
}
